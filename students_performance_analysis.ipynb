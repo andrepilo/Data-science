{
  "nbformat": 4,
  "nbformat_minor": 0,
  "metadata": {
    "colab": {
      "provenance": [],
      "authorship_tag": "ABX9TyPp+T7Yd2OqxDduWqLP7lWz",
      "include_colab_link": true
    },
    "kernelspec": {
      "name": "python3",
      "display_name": "Python 3"
    },
    "language_info": {
      "name": "python"
    }
  },
  "cells": [
    {
      "cell_type": "markdown",
      "metadata": {
        "id": "view-in-github",
        "colab_type": "text"
      },
      "source": [
        "<a href=\"https://colab.research.google.com/github/andrepilo/Data-science/blob/main/students_performance_analysis.ipynb\" target=\"_parent\"><img src=\"https://colab.research.google.com/assets/colab-badge.svg\" alt=\"Open In Colab\"/></a>"
      ]
    },
    {
      "cell_type": "code",
      "execution_count": null,
      "metadata": {
        "id": "hD_3ZuHMCbxc"
      },
      "outputs": [],
      "source": [
        "import pandas as pd\n",
        "import numpy as np\n",
        "import matplotlib.pyplot as plt\n",
        "import seaborn as sns\n",
        "from sklearn.model_selection import train_test_split\n",
        "from sklearn.linear_model import LinearRegression\n",
        "from sklearn.ensemble import RandomForestRegressor\n",
        "from sklearn.metrics import mean_absolute_error, mean_squared_error, r2_score\n",
        "\n",
        "# Caricamento dataset dal repo GitHub\n",
        "url = \"https://raw.githubusercontent.com/andrepilo/Data-science/c8e1f1d1a494117b726a29b6b6ac66004984fe78/StudentsPerformance.csv\"\n",
        "df = pd.read_csv(url)\n",
        "\n",
        "# Controllo dati\n",
        "print(df.head())\n",
        "\n",
        "# Preprocessing\n",
        "df.columns = [c.strip().lower().replace(' ', '_') for c in df.columns]\n",
        "df_encoded = pd.get_dummies(df, drop_first=True)\n",
        "\n",
        "X = df_encoded.drop('math_score', axis=1)\n",
        "y = df_encoded['math_score']\n",
        "\n",
        "# Split train/test\n",
        "X_train, X_test, y_train, y_test = train_test_split(X, y, test_size=0.2, random_state=42)\n",
        "\n",
        "# Modello 1: Linear Regression\n",
        "lin_reg = LinearRegression()\n",
        "lin_reg.fit(X_train, y_train)\n",
        "y_pred_lin = lin_reg.predict(X_test)\n",
        "\n",
        "# Modello 2: Random Forest Regressor\n",
        "rf_reg = RandomForestRegressor(random_state=42)\n",
        "rf_reg.fit(X_train, y_train)\n",
        "y_pred_rf = rf_reg.predict(X_test)\n",
        "\n",
        "# Metriche\n",
        "def print_metrics(y_true, y_pred, model_name):\n",
        "    mae = mean_absolute_error(y_true, y_pred)\n",
        "    rmse = np.sqrt(mean_squared_error(y_true, y_pred))\n",
        "    r2 = r2_score(y_true, y_pred)\n",
        "    print(f\"{model_name} - MAE: {mae:.2f}, RMSE: {rmse:.2f}, R2: {r2:.3f}\")\n",
        "    return mae, rmse, r2\n",
        "\n",
        "mae_lin, rmse_lin, r2_lin = print_metrics(y_test, y_pred_lin, \"Linear Regression\")\n",
        "mae_rf, rmse_rf, r2_rf = print_metrics(y_test, y_pred_rf, \"Random Forest Regressor\")\n",
        "\n",
        "# Grafici\n",
        "plt.figure(figsize=(12,5))\n",
        "plt.subplot(1,2,1)\n",
        "sns.histplot(df['math_score'], kde=True)\n",
        "plt.title('Distribuzione Math Score')\n",
        "\n",
        "plt.subplot(1,2,2)\n",
        "sns.heatmap(df.corr(), annot=True, cmap='coolwarm')\n",
        "plt.title('Matrice di correlazione')\n",
        "plt.show()\n",
        "\n",
        "# Feature importance Random Forest\n",
        "importances = rf_reg.feature_importances_\n",
        "features = X.columns\n",
        "indices = np.argsort(importances)\n",
        "\n",
        "plt.figure(figsize=(10,6))\n",
        "plt.barh(features[indices], importances[indices])\n",
        "plt.title(\"Feature Importances - Random Forest\")\n",
        "plt.show()\n",
        "\n",
        "# Scatter plot valori veri vs predetti\n",
        "plt.figure(figsize=(10,5))\n",
        "plt.scatter(y_test, y_pred_lin, label='Linear Regression', alpha=0.7)\n",
        "plt.scatter(y_test, y_pred_rf, label='Random Forest', alpha=0.7)\n",
        "plt.plot([0, 100], [0, 100], 'k--')\n",
        "plt.xlabel(\"Valori reali\")\n",
        "plt.ylabel(\"Valori predetti\")\n",
        "plt.legend()\n",
        "plt.title(\"Valori reali vs predetti\")\n",
        "plt.show()\n"
      ]
    }
  ]
}